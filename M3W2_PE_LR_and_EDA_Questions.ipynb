{
  "nbformat": 4,
  "nbformat_minor": 0,
  "metadata": {
    "kernelspec": {
      "display_name": "Python 3",
      "language": "python",
      "name": "python3"
    },
    "language_info": {
      "codemirror_mode": {
        "name": "ipython",
        "version": 3
      },
      "file_extension": ".py",
      "mimetype": "text/x-python",
      "name": "python",
      "nbconvert_exporter": "python",
      "pygments_lexer": "ipython3",
      "version": "3.6.5"
    },
    "colab": {
      "name": "M3W2- PE_LR and EDA_Questions.ipynb",
      "provenance": [],
      "collapsed_sections": [],
      "include_colab_link": true
    }
  },
  "cells": [
    {
      "cell_type": "markdown",
      "metadata": {
        "id": "view-in-github",
        "colab_type": "text"
      },
      "source": [
        "<a href=\"https://colab.research.google.com/github/sulagna206/Assignment/blob/main/M3W2_PE_LR_and_EDA_Questions.ipynb\" target=\"_parent\"><img src=\"https://colab.research.google.com/assets/colab-badge.svg\" alt=\"Open In Colab\"/></a>"
      ]
    },
    {
      "cell_type": "markdown",
      "metadata": {
        "id": "L4nU14NyAczH"
      },
      "source": [
        "# Simple Linear Regression"
      ]
    },
    {
      "cell_type": "markdown",
      "metadata": {
        "id": "aYt-2oLxAczJ"
      },
      "source": [
        "# Dataset"
      ]
    },
    {
      "cell_type": "markdown",
      "metadata": {
        "id": "QOhYO58vAczJ"
      },
      "source": [
        "Population of U.S. Cities"
      ]
    },
    {
      "cell_type": "markdown",
      "metadata": {
        "id": "2l51R5t2AczJ"
      },
      "source": [
        "# Description"
      ]
    },
    {
      "cell_type": "markdown",
      "metadata": {
        "id": "1qotDYWWAczK"
      },
      "source": [
        "The bigcity data frame has 49 rows and 2 columns.\n",
        "The measurements are the population (in 1000's) of 49 U.S. cities in 1920 and 1930. The 49 cities are a random sample taken\n",
        "from the 196 largest cities in 1920."
      ]
    },
    {
      "cell_type": "markdown",
      "metadata": {
        "id": "g0kQIdmwAczK"
      },
      "source": [
        "# Format"
      ]
    },
    {
      "cell_type": "markdown",
      "metadata": {
        "id": "_sJxePrKAczK"
      },
      "source": [
        "This data frame contains the following columns:\n",
        "\n",
        "u The 1920 population.\n",
        "\n",
        "x The 1930 population.\n",
        "\n",
        "Source:\n",
        "\n",
        "The data were obtained from\n",
        "\n",
        "Cochran, W.G. (1977) Sampling Techniques. Third edition. John Wiley\n",
        "\n",
        "References:\n",
        "\n",
        "Davison, A.C. and Hinkley, D.V. (1997) Bootstrap Methods and Their Application. Cambridge University Press"
      ]
    },
    {
      "cell_type": "markdown",
      "metadata": {
        "id": "NBLco6DJAczK"
      },
      "source": [
        "# 1. Read the dataset given in file named 'bigcity.csv'."
      ]
    },
    {
      "cell_type": "code",
      "metadata": {
        "id": "mCKMjlhcA2EJ"
      },
      "source": [
        "import pandas as pd\n"
      ],
      "execution_count": 1,
      "outputs": []
    },
    {
      "cell_type": "code",
      "metadata": {
        "colab": {
          "base_uri": "https://localhost:8080/",
          "height": 206
        },
        "id": "13UQD6TbAczK",
        "outputId": "2dd107b5-2fce-4f86-aa69-df4d83a4814e"
      },
      "source": [
        "city = pd.read_csv('bigcity.csv')\n",
        "city.head()"
      ],
      "execution_count": 3,
      "outputs": [
        {
          "output_type": "execute_result",
          "data": {
            "text/html": [
              "<div>\n",
              "<style scoped>\n",
              "    .dataframe tbody tr th:only-of-type {\n",
              "        vertical-align: middle;\n",
              "    }\n",
              "\n",
              "    .dataframe tbody tr th {\n",
              "        vertical-align: top;\n",
              "    }\n",
              "\n",
              "    .dataframe thead th {\n",
              "        text-align: right;\n",
              "    }\n",
              "</style>\n",
              "<table border=\"1\" class=\"dataframe\">\n",
              "  <thead>\n",
              "    <tr style=\"text-align: right;\">\n",
              "      <th></th>\n",
              "      <th>Unnamed: 0</th>\n",
              "      <th>u</th>\n",
              "      <th>x</th>\n",
              "    </tr>\n",
              "  </thead>\n",
              "  <tbody>\n",
              "    <tr>\n",
              "      <th>0</th>\n",
              "      <td>1</td>\n",
              "      <td>138</td>\n",
              "      <td>143</td>\n",
              "    </tr>\n",
              "    <tr>\n",
              "      <th>1</th>\n",
              "      <td>2</td>\n",
              "      <td>93</td>\n",
              "      <td>104</td>\n",
              "    </tr>\n",
              "    <tr>\n",
              "      <th>2</th>\n",
              "      <td>3</td>\n",
              "      <td>61</td>\n",
              "      <td>69</td>\n",
              "    </tr>\n",
              "    <tr>\n",
              "      <th>3</th>\n",
              "      <td>4</td>\n",
              "      <td>179</td>\n",
              "      <td>260</td>\n",
              "    </tr>\n",
              "    <tr>\n",
              "      <th>4</th>\n",
              "      <td>5</td>\n",
              "      <td>48</td>\n",
              "      <td>75</td>\n",
              "    </tr>\n",
              "  </tbody>\n",
              "</table>\n",
              "</div>"
            ],
            "text/plain": [
              "   Unnamed: 0    u    x\n",
              "0           1  138  143\n",
              "1           2   93  104\n",
              "2           3   61   69\n",
              "3           4  179  260\n",
              "4           5   48   75"
            ]
          },
          "metadata": {},
          "execution_count": 3
        }
      ]
    },
    {
      "cell_type": "markdown",
      "metadata": {
        "id": "lhz3o0SBAczL"
      },
      "source": [
        "# 2. Transform the dataset (0.5 points)\n",
        "Find the number of rows in given dataset and separate the input and target variables into X and Y. Hint: You can shape function \n",
        "to get the size of the dataframe"
      ]
    },
    {
      "cell_type": "code",
      "metadata": {
        "id": "nkftpEA5AczL"
      },
      "source": [
        "print(\"No. of rows : \",city.shape[0])\n",
        "X = city[['u']]\n",
        "Y = city[['x']]"
      ],
      "execution_count": null,
      "outputs": []
    },
    {
      "cell_type": "markdown",
      "metadata": {
        "id": "7p2O2pHvAczL"
      },
      "source": [
        "# 3. Check the dataset for any missing values and also print out the correlation matrix (0.5 points)\n",
        "You can use .isna() and .corr() functions to check NA's and correlation in the dataframe respectively"
      ]
    },
    {
      "cell_type": "code",
      "metadata": {
        "colab": {
          "base_uri": "https://localhost:8080/"
        },
        "id": "Tv0Mxc7qAczL",
        "outputId": "134e1c16-2a52-44f8-80f8-5cb6b29c5816"
      },
      "source": [
        "print(city.isna().any())\n",
        "print(city.corr())"
      ],
      "execution_count": 10,
      "outputs": [
        {
          "output_type": "stream",
          "name": "stdout",
          "text": [
            "Unnamed: 0    False\n",
            "u             False\n",
            "x             False\n",
            "dtype: bool\n",
            "            Unnamed: 0         u         x\n",
            "Unnamed: 0    1.000000 -0.024788 -0.047890\n",
            "u            -0.024788  1.000000  0.981742\n",
            "x            -0.047890  0.981742  1.000000\n"
          ]
        }
      ]
    },
    {
      "cell_type": "markdown",
      "metadata": {
        "id": "Q3Zlw2xrAczL"
      },
      "source": [
        "The high correlation betwwen u and x indicates that the variable u is a good predictor of variable x"
      ]
    },
    {
      "cell_type": "markdown",
      "metadata": {
        "id": "CRPTDVepAczL"
      },
      "source": [
        "# 4. Split data into train, test sets (0.5 points)\n",
        "Divide the data into training and test sets with 80-20 split using scikit-learn. Print the shapes of training and test feature \n",
        "sets.*\n",
        "Check: train_test_split function"
      ]
    },
    {
      "cell_type": "code",
      "metadata": {
        "colab": {
          "base_uri": "https://localhost:8080/"
        },
        "id": "kSDf4_KyAczM",
        "outputId": "208771be-09d3-40dd-c059-e28e4ce8e178"
      },
      "source": [
        "from sklearn.model_selection import train_test_split\n",
        "X_train,X_test,Y_train,Y_test = train_test_split(X,Y,test_size=0.2,random_state=0)\n",
        "print(X_train.shape)\n",
        "print(X_test.shape)"
      ],
      "execution_count": 15,
      "outputs": [
        {
          "output_type": "stream",
          "name": "stdout",
          "text": [
            "(39, 1)\n",
            "(10, 1)\n"
          ]
        }
      ]
    },
    {
      "cell_type": "markdown",
      "metadata": {
        "id": "_tSK6IZRAczM"
      },
      "source": [
        "# 5. Find coefficients & intercept (0.5 points)\n",
        "Estimate the coefficients b0 and b1 using scikit-learn.\n",
        "Check: coef_ and intercept_ functions can help you get coefficients & intercept"
      ]
    },
    {
      "cell_type": "code",
      "metadata": {
        "colab": {
          "base_uri": "https://localhost:8080/"
        },
        "id": "G8T4ahnkAczM",
        "outputId": "eba7fe71-1c07-494d-bf0a-3cfdbdae3e6b"
      },
      "source": [
        "from sklearn.linear_model import LinearRegression\n",
        "lr = LinearRegression()\n",
        "lr.fit(X_train,Y_train)\n",
        "b1 = lr.coef_\n",
        "b0 = lr.intercept_\n",
        "print(b1)\n",
        "print(b0)"
      ],
      "execution_count": 19,
      "outputs": [
        {
          "output_type": "stream",
          "name": "stdout",
          "text": [
            "[[1.16465537]]\n",
            "[9.57115437]\n"
          ]
        }
      ]
    },
    {
      "cell_type": "markdown",
      "metadata": {
        "id": "6MNt_dsKAczM"
      },
      "source": [
        "# 6.  Linear Relationship between feature and target (0.5 points)\n",
        "Plot the line with b1 and b0 as slope and y-intercept."
      ]
    },
    {
      "cell_type": "code",
      "metadata": {
        "colab": {
          "base_uri": "https://localhost:8080/",
          "height": 265
        },
        "id": "YNYPtf8sAczM",
        "outputId": "c66e773c-e2a2-4af1-b90b-3d517c1b0ee0"
      },
      "source": [
        "import matplotlib.pyplot as plt\n",
        "ytrain = lr.predict(X_train)\n",
        "plt.plot(X_train,ytrain)\n",
        "plt.show()"
      ],
      "execution_count": 23,
      "outputs": [
        {
          "output_type": "display_data",
          "data": {
            "image/png": "[encoded data removed]",
            "text/plain": [
              "<Figure size 432x288 with 1 Axes>"
            ]
          },
          "metadata": {
            "needs_background": "light"
          }
        }
      ]
    },
    {
      "cell_type": "markdown",
      "metadata": {
        "id": "K3WQf0NxAczM"
      },
      "source": [
        "# 7. Evaluation of model with scikit-learn (0.5 points)\n",
        "Validate the model with Root Mean Squares error and R^2 score using scikit-learn. RMSE and R2 for test data and prediction\n",
        "\n",
        "Hint: You can import mean_squared_error function & r2 (R square) from sklearn.metrics. Performing root operation over mean \n",
        "square error over mean square error gives you root mean square error"
      ]
    },
    {
      "cell_type": "code",
      "metadata": {
        "colab": {
          "base_uri": "https://localhost:8080/"
        },
        "id": "9-UkaNy5AczM",
        "outputId": "d70015a3-798e-4d35-ade6-0ed052cdaf29"
      },
      "source": [
        "from sklearn.metrics import mean_squared_error\n",
        "from sklearn.metrics import r2_score\n",
        "from math import sqrt\n",
        "ypred = lr.predict(X_test)\n",
        "rmse = sqrt(mean_squared_error(Y_test,ypred))\n",
        "r = r2_score(Y_test,ypred)\n",
        "print(\"RMSE = \",rmse,\"R2 score = \",r)"
      ],
      "execution_count": 24,
      "outputs": [
        {
          "output_type": "stream",
          "name": "stdout",
          "text": [
            "RMSE =  18.710703893730713 R2 score =  0.92536721776934\n"
          ]
        }
      ]
    },
    {
      "cell_type": "markdown",
      "metadata": {
        "id": "_mhpOpieAczN"
      },
      "source": [
        "# 8. Calculate the accuracy of the model for both training and test data set (0.5 points)\n",
        "\n",
        "Hint: .score() function"
      ]
    },
    {
      "cell_type": "code",
      "metadata": {
        "colab": {
          "base_uri": "https://localhost:8080/"
        },
        "id": "7ZnzKzLPAczN",
        "outputId": "80fa89bb-1f01-40fd-f76f-12e082cd31e2"
      },
      "source": [
        "lr.score(X_test,Y_test)"
      ],
      "execution_count": 25,
      "outputs": [
        {
          "output_type": "execute_result",
          "data": {
            "text/plain": [
              "0.92536721776934"
            ]
          },
          "metadata": {},
          "execution_count": 25
        }
      ]
    },
    {
      "cell_type": "markdown",
      "metadata": {
        "id": "CnMX8zKHAczN"
      },
      "source": [
        "# Exploring and Understanding Data (EDA)"
      ]
    },
    {
      "cell_type": "markdown",
      "metadata": {
        "id": "1i8RNqakAczN"
      },
      "source": [
        "# 1. Load required Libraries"
      ]
    },
    {
      "cell_type": "code",
      "metadata": {
        "id": "ZMez7z4uAczN"
      },
      "source": [
        "import pandas as pd\n",
        "import seaborn as sns"
      ],
      "execution_count": 34,
      "outputs": []
    },
    {
      "cell_type": "markdown",
      "metadata": {
        "id": "PZ1Ka9S2AczN"
      },
      "source": [
        "# 2. Collect and load data"
      ]
    },
    {
      "cell_type": "code",
      "metadata": {
        "colab": {
          "base_uri": "https://localhost:8080/",
          "height": 206
        },
        "id": "RfxRQma5AczN",
        "outputId": "d59b8c21-b547-47ef-cc16-31894d000d2b"
      },
      "source": [
        "cars = pd.read_csv('https://sulagna206.github.io/Machine-Learning-with-R-datasets/usedcars.csv')\n",
        "cars.head()"
      ],
      "execution_count": 29,
      "outputs": [
        {
          "output_type": "execute_result",
          "data": {
            "text/html": [
              "<div>\n",
              "<style scoped>\n",
              "    .dataframe tbody tr th:only-of-type {\n",
              "        vertical-align: middle;\n",
              "    }\n",
              "\n",
              "    .dataframe tbody tr th {\n",
              "        vertical-align: top;\n",
              "    }\n",
              "\n",
              "    .dataframe thead th {\n",
              "        text-align: right;\n",
              "    }\n",
              "</style>\n",
              "<table border=\"1\" class=\"dataframe\">\n",
              "  <thead>\n",
              "    <tr style=\"text-align: right;\">\n",
              "      <th></th>\n",
              "      <th>year</th>\n",
              "      <th>model</th>\n",
              "      <th>price</th>\n",
              "      <th>mileage</th>\n",
              "      <th>color</th>\n",
              "      <th>transmission</th>\n",
              "    </tr>\n",
              "  </thead>\n",
              "  <tbody>\n",
              "    <tr>\n",
              "      <th>0</th>\n",
              "      <td>2011</td>\n",
              "      <td>SEL</td>\n",
              "      <td>21992</td>\n",
              "      <td>7413</td>\n",
              "      <td>Yellow</td>\n",
              "      <td>AUTO</td>\n",
              "    </tr>\n",
              "    <tr>\n",
              "      <th>1</th>\n",
              "      <td>2011</td>\n",
              "      <td>SEL</td>\n",
              "      <td>20995</td>\n",
              "      <td>10926</td>\n",
              "      <td>Gray</td>\n",
              "      <td>AUTO</td>\n",
              "    </tr>\n",
              "    <tr>\n",
              "      <th>2</th>\n",
              "      <td>2011</td>\n",
              "      <td>SEL</td>\n",
              "      <td>19995</td>\n",
              "      <td>7351</td>\n",
              "      <td>Silver</td>\n",
              "      <td>AUTO</td>\n",
              "    </tr>\n",
              "    <tr>\n",
              "      <th>3</th>\n",
              "      <td>2011</td>\n",
              "      <td>SEL</td>\n",
              "      <td>17809</td>\n",
              "      <td>11613</td>\n",
              "      <td>Gray</td>\n",
              "      <td>AUTO</td>\n",
              "    </tr>\n",
              "    <tr>\n",
              "      <th>4</th>\n",
              "      <td>2012</td>\n",
              "      <td>SE</td>\n",
              "      <td>17500</td>\n",
              "      <td>8367</td>\n",
              "      <td>White</td>\n",
              "      <td>AUTO</td>\n",
              "    </tr>\n",
              "  </tbody>\n",
              "</table>\n",
              "</div>"
            ],
            "text/plain": [
              "   year model  price  mileage   color transmission\n",
              "0  2011   SEL  21992     7413  Yellow         AUTO\n",
              "1  2011   SEL  20995    10926    Gray         AUTO\n",
              "2  2011   SEL  19995     7351  Silver         AUTO\n",
              "3  2011   SEL  17809    11613    Gray         AUTO\n",
              "4  2012    SE  17500     8367   White         AUTO"
            ]
          },
          "metadata": {},
          "execution_count": 29
        }
      ]
    },
    {
      "cell_type": "markdown",
      "metadata": {
        "id": "cfAJzQz-AczN"
      },
      "source": [
        "# 3. Explore numeric variables - five number summary"
      ]
    },
    {
      "cell_type": "code",
      "metadata": {
        "colab": {
          "base_uri": "https://localhost:8080/",
          "height": 300
        },
        "id": "y3AhJqooAczN",
        "outputId": "fda7a231-4d25-498f-c54f-017a4b8f1bb1"
      },
      "source": [
        "cars.describe()"
      ],
      "execution_count": 30,
      "outputs": [
        {
          "output_type": "execute_result",
          "data": {
            "text/html": [
              "<div>\n",
              "<style scoped>\n",
              "    .dataframe tbody tr th:only-of-type {\n",
              "        vertical-align: middle;\n",
              "    }\n",
              "\n",
              "    .dataframe tbody tr th {\n",
              "        vertical-align: top;\n",
              "    }\n",
              "\n",
              "    .dataframe thead th {\n",
              "        text-align: right;\n",
              "    }\n",
              "</style>\n",
              "<table border=\"1\" class=\"dataframe\">\n",
              "  <thead>\n",
              "    <tr style=\"text-align: right;\">\n",
              "      <th></th>\n",
              "      <th>year</th>\n",
              "      <th>price</th>\n",
              "      <th>mileage</th>\n",
              "    </tr>\n",
              "  </thead>\n",
              "  <tbody>\n",
              "    <tr>\n",
              "      <th>count</th>\n",
              "      <td>150.000000</td>\n",
              "      <td>150.000000</td>\n",
              "      <td>150.000000</td>\n",
              "    </tr>\n",
              "    <tr>\n",
              "      <th>mean</th>\n",
              "      <td>2008.726667</td>\n",
              "      <td>12961.933333</td>\n",
              "      <td>44260.646667</td>\n",
              "    </tr>\n",
              "    <tr>\n",
              "      <th>std</th>\n",
              "      <td>2.200966</td>\n",
              "      <td>3122.481735</td>\n",
              "      <td>26982.104322</td>\n",
              "    </tr>\n",
              "    <tr>\n",
              "      <th>min</th>\n",
              "      <td>2000.000000</td>\n",
              "      <td>3800.000000</td>\n",
              "      <td>4867.000000</td>\n",
              "    </tr>\n",
              "    <tr>\n",
              "      <th>25%</th>\n",
              "      <td>2008.000000</td>\n",
              "      <td>10995.000000</td>\n",
              "      <td>27200.250000</td>\n",
              "    </tr>\n",
              "    <tr>\n",
              "      <th>50%</th>\n",
              "      <td>2009.000000</td>\n",
              "      <td>13591.500000</td>\n",
              "      <td>36385.000000</td>\n",
              "    </tr>\n",
              "    <tr>\n",
              "      <th>75%</th>\n",
              "      <td>2010.000000</td>\n",
              "      <td>14904.500000</td>\n",
              "      <td>55124.500000</td>\n",
              "    </tr>\n",
              "    <tr>\n",
              "      <th>max</th>\n",
              "      <td>2012.000000</td>\n",
              "      <td>21992.000000</td>\n",
              "      <td>151479.000000</td>\n",
              "    </tr>\n",
              "  </tbody>\n",
              "</table>\n",
              "</div>"
            ],
            "text/plain": [
              "              year         price        mileage\n",
              "count   150.000000    150.000000     150.000000\n",
              "mean   2008.726667  12961.933333   44260.646667\n",
              "std       2.200966   3122.481735   26982.104322\n",
              "min    2000.000000   3800.000000    4867.000000\n",
              "25%    2008.000000  10995.000000   27200.250000\n",
              "50%    2009.000000  13591.500000   36385.000000\n",
              "75%    2010.000000  14904.500000   55124.500000\n",
              "max    2012.000000  21992.000000  151479.000000"
            ]
          },
          "metadata": {},
          "execution_count": 30
        }
      ]
    },
    {
      "cell_type": "markdown",
      "metadata": {
        "id": "y3AtNDLUAczO"
      },
      "source": [
        "# 3a. Visualize numeric variables in boxplot and histograms\n",
        "# 3b. Measure spread – variance and standard deviation"
      ]
    },
    {
      "cell_type": "code",
      "metadata": {
        "colab": {
          "base_uri": "https://localhost:8080/",
          "height": 442
        },
        "id": "6NsBBNKVAczO",
        "outputId": "9c5ae3ed-e8ce-4f2d-d66b-adf67ff6ee80"
      },
      "source": [
        "plt.figure(figsize=(10,6))\n",
        "plt.subplot(2,2,1)\n",
        "sns.boxplot(y=cars['price'])\n",
        "plt.subplot(2,2,2)\n",
        "sns.boxplot(y=cars['mileage'])\n",
        "plt.subplot(2,2,3)\n",
        "sns.histplot(cars['price'])\n",
        "plt.subplot(2,2,4)\n",
        "sns.histplot(cars['mileage'])\n",
        "plt.tight_layout()\n",
        "plt.show()"
      ],
      "execution_count": 41,
      "outputs": [
        {
          "output_type": "display_data",
          "data": {
            "image/png": "[encoded data removed]",
            "text/plain": [
              "<Figure size 720x432 with 4 Axes>"
            ]
          },
          "metadata": {
            "needs_background": "light"
          }
        }
      ]
    },
    {
      "cell_type": "code",
      "metadata": {
        "colab": {
          "base_uri": "https://localhost:8080/"
        },
        "id": "BchYp6sFAczO",
        "outputId": "1a92d279-554c-4dba-9226-efc646d03014"
      },
      "source": [
        "print(\"Variance of price = \",(cars['price'].var()),\" Variance of mileage = \",(cars['mileage'].var()))\n",
        "print(\"Variance of price = \",(cars['price'].std()),\" Variance of mileage = \",(cars['mileage'].std()))"
      ],
      "execution_count": 46,
      "outputs": [
        {
          "output_type": "stream",
          "name": "stdout",
          "text": [
            "Variance of price =  9749892.183445197  Variance of mileage =  728033953.6394184\n",
            "Variance of price =  3122.4817346856003  Variance of mileage =  26982.104321928236\n"
          ]
        }
      ]
    },
    {
      "cell_type": "markdown",
      "metadata": {
        "id": "Kcq0eDPUAczO"
      },
      "source": [
        "# 4. Explore categorical variables"
      ]
    },
    {
      "cell_type": "code",
      "metadata": {
        "colab": {
          "base_uri": "https://localhost:8080/",
          "height": 175
        },
        "id": "LrgyDD8GAczO",
        "outputId": "8cbda355-032e-4054-9bfb-b5497687a634"
      },
      "source": [
        "cars.describe(include=['object'])"
      ],
      "execution_count": 47,
      "outputs": [
        {
          "output_type": "execute_result",
          "data": {
            "text/html": [
              "<div>\n",
              "<style scoped>\n",
              "    .dataframe tbody tr th:only-of-type {\n",
              "        vertical-align: middle;\n",
              "    }\n",
              "\n",
              "    .dataframe tbody tr th {\n",
              "        vertical-align: top;\n",
              "    }\n",
              "\n",
              "    .dataframe thead th {\n",
              "        text-align: right;\n",
              "    }\n",
              "</style>\n",
              "<table border=\"1\" class=\"dataframe\">\n",
              "  <thead>\n",
              "    <tr style=\"text-align: right;\">\n",
              "      <th></th>\n",
              "      <th>model</th>\n",
              "      <th>color</th>\n",
              "      <th>transmission</th>\n",
              "    </tr>\n",
              "  </thead>\n",
              "  <tbody>\n",
              "    <tr>\n",
              "      <th>count</th>\n",
              "      <td>150</td>\n",
              "      <td>150</td>\n",
              "      <td>150</td>\n",
              "    </tr>\n",
              "    <tr>\n",
              "      <th>unique</th>\n",
              "      <td>3</td>\n",
              "      <td>9</td>\n",
              "      <td>2</td>\n",
              "    </tr>\n",
              "    <tr>\n",
              "      <th>top</th>\n",
              "      <td>SE</td>\n",
              "      <td>Black</td>\n",
              "      <td>AUTO</td>\n",
              "    </tr>\n",
              "    <tr>\n",
              "      <th>freq</th>\n",
              "      <td>78</td>\n",
              "      <td>35</td>\n",
              "      <td>128</td>\n",
              "    </tr>\n",
              "  </tbody>\n",
              "</table>\n",
              "</div>"
            ],
            "text/plain": [
              "       model  color transmission\n",
              "count    150    150          150\n",
              "unique     3      9            2\n",
              "top       SE  Black         AUTO\n",
              "freq      78     35          128"
            ]
          },
          "metadata": {},
          "execution_count": 47
        }
      ]
    },
    {
      "cell_type": "markdown",
      "metadata": {
        "id": "hObDInpDAczO"
      },
      "source": [
        "# 5. Explore relationships between variables using scatterplots and two-way cross tabulations"
      ]
    },
    {
      "cell_type": "code",
      "metadata": {
        "colab": {
          "base_uri": "https://localhost:8080/",
          "height": 279
        },
        "id": "KFYkmIc-AczO",
        "outputId": "a9810fe6-6706-4946-ebdc-630286ccfda9"
      },
      "source": [
        "sns.scatterplot(x=cars['mileage'],y=cars['price'],data=cars)\n",
        "plt.show()"
      ],
      "execution_count": 48,
      "outputs": [
        {
          "output_type": "display_data",
          "data": {
            "image/png": "[encoded data removed]",
            "text/plain": [
              "<Figure size 432x288 with 1 Axes>"
            ]
          },
          "metadata": {
            "needs_background": "light"
          }
        }
      ]
    }
  ]
}